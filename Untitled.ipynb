{
 "cells": [
  {
   "cell_type": "code",
   "execution_count": null,
   "metadata": {},
   "outputs": [],
   "source": [
    "1. Data science is the process of deriving knowledge and insights from a huge and diverse set of data through _preprocess_________ and anlyzed______ the data.\n",
    "\n",
    "2.  What is the value of ∫ 8 x^3 dx.\n",
    "     8 x^4/4+c\n",
    "\n",
    "3. Integrate ∫ x/(x+1) dx =\n",
    "\n",
    "4. Do gradient descent methods always converge to same point?\n",
    "No\n",
    "\n",
    "5. First Order Gradient descent would not work correctly (i.e. may get stuck) in which of the following graphs?\n",
    "B\n",
    "6. x^3-2x+10 derivative it with respect to x ?\n",
    "\n",
    "3x^2-2"
   ]
  }
 ],
 "metadata": {
  "kernelspec": {
   "display_name": "Python 3",
   "language": "python",
   "name": "python3"
  },
  "language_info": {
   "codemirror_mode": {
    "name": "ipython",
    "version": 3
   },
   "file_extension": ".py",
   "mimetype": "text/x-python",
   "name": "python",
   "nbconvert_exporter": "python",
   "pygments_lexer": "ipython3",
   "version": "3.7.3"
  }
 },
 "nbformat": 4,
 "nbformat_minor": 2
}
